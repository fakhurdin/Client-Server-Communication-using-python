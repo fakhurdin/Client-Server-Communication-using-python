import socket

s = socket.socket()
s.bind(('localhost', 9988))
s.listen()

print('Server Created..')
print('Waiting for Connection...')

conn = True

while conn:
    c, addr = s.accept()
    print(addr)

    received_data = c.recv(1024).decode()
    print("Client:", received_data)

    if received_data.lower() == 'exit':
        conn = False
        break

    reply_input = input("Enter Your Reply: ")
    c.send(reply_input.encode())

c.close()
s.close()