import socket

conn = True

while conn:
    c = socket.socket()
    c.connect(('localhost', 9988))

    msg_input = input('Enter Your Message: ')

    c.send(msg_input.encode())

    if msg_input.lower() == 'exit':
        conn = False
        break

    response = c.recv(1024).decode()
    print('Server:', response)

c.close()